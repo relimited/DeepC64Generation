{
 "cells": [
  {
   "cell_type": "markdown",
   "metadata": {},
   "source": [
    "#### Lets do a learn!\n",
    "\n",
    "Take the normalized archive, and do a learn!\n",
    "prep:\n",
    "    extact windows, label with next sample\n",
    "real simple dense network"
   ]
  },
  {
   "cell_type": "code",
   "execution_count": 1,
   "metadata": {},
   "outputs": [],
   "source": [
    "# useful constants\n",
    "NORMED_ARCHIVE_NAME = \"20-norm-dataset.npy\"\n",
    "WINDOW_SIZE = 20\n",
    "END_TOKEN = -1.0"
   ]
  },
  {
   "cell_type": "code",
   "execution_count": 2,
   "metadata": {},
   "outputs": [
    {
     "name": "stderr",
     "output_type": "stream",
     "text": [
      "/usr/local/lib/python3.6/site-packages/h5py/__init__.py:36: FutureWarning: Conversion of the second argument of issubdtype from `float` to `np.floating` is deprecated. In future, it will be treated as `np.float64 == np.dtype(float).type`.\n",
      "  from ._conv import register_converters as _register_converters\n",
      "Using Theano backend.\n",
      "Using cuDNN version 7005 on context None\n",
      "Mapped name None to device cuda0: GeForce GT 750M (0000:01:00.0)\n"
     ]
    }
   ],
   "source": [
    "import os\n",
    "import numpy as np\n",
    "\n",
    "from keras.layers import Input, Dense\n",
    "from keras.models import Model\n",
    "\n",
    "import matplotlib.pyplot as plt"
   ]
  },
  {
   "cell_type": "code",
   "execution_count": 3,
   "metadata": {},
   "outputs": [],
   "source": [
    "# lets load some data\n",
    "init_data = np.load(NORMED_ARCHIVE_NAME)"
   ]
  },
  {
   "cell_type": "code",
   "execution_count": 4,
   "metadata": {},
   "outputs": [
    {
     "data": {
      "text/plain": [
       "(20,)"
      ]
     },
     "execution_count": 4,
     "metadata": {},
     "output_type": "execute_result"
    }
   ],
   "source": [
    "init_data.shape"
   ]
  },
  {
   "cell_type": "code",
   "execution_count": 5,
   "metadata": {},
   "outputs": [],
   "source": [
    "def label_song(song, window_size):\n",
    "    \"\"\" Slide over a song, labeling each window with the next sample\n",
    "    Parameters\n",
    "    ----------\n",
    "    song: np.array\n",
    "        A numpy array that represents song data (may be normalized and stuff)\n",
    "    \n",
    "    window_size: int\n",
    "        the size of the window\n",
    "    \n",
    "    Returns\n",
    "    -------\n",
    "    tuple (windows, labels)\n",
    "        the windows along with the next sample to label\n",
    "    \"\"\"\n",
    "    song_data = []\n",
    "    song_labels = []\n",
    "    for i in range(song.shape[0]):\n",
    "        if i <= window_size:\n",
    "            continue\n",
    "        else:\n",
    "            song_data.append(song[i-window_size-1:i-1])\n",
    "            song_labels.append(song[i])\n",
    "\n",
    "    return (np.array(song_data), np.array(song_labels))"
   ]
  },
  {
   "cell_type": "code",
   "execution_count": 12,
   "metadata": {},
   "outputs": [
    {
     "name": "stdout",
     "output_type": "stream",
     "text": [
      "(926080, 20)\n",
      "(1, 20)\n",
      "(2734180, 20)\n",
      "(926081, 20)\n",
      "(661480, 20)\n",
      "(3660261, 20)\n",
      "(10451680, 20)\n",
      "(4321741, 20)\n",
      "(617380, 20)\n",
      "(14773421, 20)\n"
     ]
    }
   ],
   "source": [
    "train_data = np.zeros((1, 20))\n",
    "train_labels = np.zeros(1)\n",
    "for song in init_data[14:-1]:\n",
    "    song_data, song_labels = label_song(song, WINDOW_SIZE)\n",
    "    print(song_data.shape)\n",
    "    print(train_data.shape)\n",
    "    train_data = np.append(train_data, song_data, axis=0)\n",
    "    train_labels = np.append(train_labels, song_labels, axis=0)\n",
    "\n",
    "train_data = np.array(train_data)\n",
    "train_labels = np.array(train_labels)\n",
    "\n",
    "test_data, test_labels = label_song(init_data[-1], WINDOW_SIZE)\n",
    "test_data = np.array([test_data]) #SO DUMB\n",
    "test_labels = np.array([test_labels])"
   ]
  },
  {
   "cell_type": "code",
   "execution_count": 13,
   "metadata": {},
   "outputs": [
    {
     "name": "stdout",
     "output_type": "stream",
     "text": [
      "TRAINING SHAPES:\n",
      "(15390801, 20)\n",
      "(15390801,)\n",
      "TESTING SHAPES:\n",
      "(1, 7629280, 20)\n",
      "(1, 7629280)\n"
     ]
    }
   ],
   "source": [
    "print(\"TRAINING SHAPES:\")\n",
    "print(train_data.shape)\n",
    "print(train_labels.shape)\n",
    "\n",
    "\n",
    "print(\"TESTING SHAPES:\")\n",
    "print(test_data.shape)\n",
    "print(test_labels.shape)"
   ]
  },
  {
   "cell_type": "code",
   "execution_count": 32,
   "metadata": {},
   "outputs": [
    {
     "data": {
      "text/plain": [
       "0.21802090108394623"
      ]
     },
     "execution_count": 32,
     "metadata": {},
     "output_type": "execute_result"
    }
   ],
   "source": [
    "# ITS WRITING A NETWORK TIME"
   ]
  },
  {
   "cell_type": "code",
   "execution_count": null,
   "metadata": {},
   "outputs": [],
   "source": []
  }
 ],
 "metadata": {
  "kernelspec": {
   "display_name": "Python 3",
   "language": "python",
   "name": "python3"
  },
  "language_info": {
   "codemirror_mode": {
    "name": "ipython",
    "version": 3
   },
   "file_extension": ".py",
   "mimetype": "text/x-python",
   "name": "python",
   "nbconvert_exporter": "python",
   "pygments_lexer": "ipython3",
   "version": "3.6.4"
  }
 },
 "nbformat": 4,
 "nbformat_minor": 2
}
