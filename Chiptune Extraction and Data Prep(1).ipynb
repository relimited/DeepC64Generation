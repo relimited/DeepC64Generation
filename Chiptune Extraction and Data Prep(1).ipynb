{
 "cells": [
  {
   "cell_type": "markdown",
   "metadata": {
    "ein.tags": "worksheet-0",
    "slideshow": {
     "slide_type": "-"
    }
   },
   "source": [
    "#### Data Munging Notebook!\n",
    "\n",
    "This notebook is for doing data manipulation and various munging to get chiptune .wav data ready for prediction/analysis.\n",
    "\n",
    "Steps: load the wave data into memory, save as raw numpy data as either a numpy archive or a pickled pandas dataframe"
   ]
  },
  {
   "cell_type": "code",
   "execution_count": null,
   "metadata": {
    "autoscroll": false,
    "ein.tags": "worksheet-0",
    "slideshow": {
     "slide_type": "-"
    }
   },
   "outputs": [],
   "source": [
    "import numpy as np\n",
    "import scipy.io.wavfile as wav\n",
    "import pandas as pd\n",
    "import pickle\n",
    "import os\n",
    "\n",
    "from pprint import pprint"
   ]
  },
  {
   "cell_type": "code",
   "execution_count": null,
   "metadata": {
    "autoscroll": false,
    "ein.tags": "worksheet-0",
    "slideshow": {
     "slide_type": "-"
    }
   },
   "outputs": [],
   "source": [
    "# useful constants\n",
    "DATA_DIR = './20-test-dataset'\n",
    "SINGLE_ARCHIVE_NAME = \"20-test-dataset.npy\"\n",
    "ARCHIVE_NAME = \"20-test-archive.pkl\""
   ]
  },
  {
   "cell_type": "markdown",
   "metadata": {
    "ein.tags": "worksheet-0",
    "slideshow": {
     "slide_type": "-"
    }
   },
   "source": [
    "Lets write a quick function to extract all the wave files in a directory, return a giant (wavFileNum, ...) numpy array with ALL THE AUDIO DATA"
   ]
  },
  {
   "cell_type": "code",
   "execution_count": null,
   "metadata": {
    "autoscroll": false,
    "ein.tags": "worksheet-0",
    "slideshow": {
     "slide_type": "-"
    }
   },
   "outputs": [],
   "source": [
    "wav_files = os.listdir(DATA_DIR)\n",
    "test_wav = wav_files[0]\n",
    "samps_per_sec, data = wav.read(os.path.join(DATA_DIR, test_wav))"
   ]
  },
  {
   "cell_type": "code",
   "execution_count": null,
   "metadata": {},
   "outputs": [],
   "source": [
    "def create_wav_dict(data_dir):\n",
    "    \"\"\" Function to extract all the wav data from a directory of wav files, and creates a dictionary that maps file names to data\n",
    "    Warning: no test to make sure directory is pure\n",
    "    Parameters\n",
    "    ----------\n",
    "    data_dir: str\n",
    "        The directory of wavs\n",
    "    \n",
    "    Returns\n",
    "    -------\n",
    "    dict\n",
    "        dictionary that maps file names to wav data\n",
    "    \"\"\"\n",
    "    data_dict = {}\n",
    "    file_names = os.listdir(data_dir)\n",
    "    for file_name in file_names:\n",
    "        rate, data = wav.read(os.path.join(data_dir, file_name))\n",
    "        data_dict[file_name] = {\n",
    "            'rate': rate,\n",
    "            'data': data,\n",
    "            'dtype': data.dtype\n",
    "        }\n",
    "    \n",
    "    return data_dict"
   ]
  },
  {
   "cell_type": "code",
   "execution_count": null,
   "metadata": {
    "autoscroll": false,
    "ein.tags": "worksheet-0",
    "slideshow": {
     "slide_type": "-"
    }
   },
   "outputs": [],
   "source": [
    "def extract_wavs(data_dir):\n",
    "    \"\"\" Function to extract all the wav data from a directory of wav files\n",
    "    Warning: no test to make sure directory is pure\n",
    "    Parameters\n",
    "    ----------\n",
    "    data_dir: str\n",
    "        The directory of wavs\n",
    "    \n",
    "    Returns\n",
    "    -------\n",
    "    np.array:\n",
    "        numpy array of all wav data, dtype is determined by wav file\n",
    "        (num_files, max_file_size)\n",
    "    \"\"\"\n",
    "    ret_array = [] #this is sad and bad\n",
    "    file_names = os.listdir(data_dir)\n",
    "    for file_name in file_names:\n",
    "        _, data = wav.read(os.path.join(data_dir, file_name))\n",
    "        ret_array.append(data)\n",
    "    \n",
    "    return np.array(ret_array)"
   ]
  },
  {
   "cell_type": "code",
   "execution_count": null,
   "metadata": {
    "autoscroll": false,
    "ein.tags": "worksheet-0",
    "slideshow": {
     "slide_type": "-"
    }
   },
   "outputs": [],
   "source": [
    "audio_data = extract_wavs(DATA_DIR)\n",
    "audio_data_archive = create_wav_dict(DATA_DIR)"
   ]
  },
  {
   "cell_type": "code",
   "execution_count": null,
   "metadata": {},
   "outputs": [],
   "source": []
  },
  {
   "cell_type": "code",
   "execution_count": null,
   "metadata": {
    "autoscroll": false,
    "ein.tags": "worksheet-0",
    "slideshow": {
     "slide_type": "-"
    }
   },
   "outputs": [],
   "source": [
    "# save the archive\n",
    "np.save(SINGLE_ARCHIVE_NAME, audio_data)\n",
    "with open(ARCHIVE_NAME, 'wb') as f:\n",
    "    pickle.dump(audio_data_archive, f)"
   ]
  },
  {
   "cell_type": "code",
   "execution_count": null,
   "metadata": {
    "autoscroll": false,
    "ein.tags": "worksheet-0",
    "slideshow": {
     "slide_type": "-"
    }
   },
   "outputs": [],
   "source": [
    "# load it back, both the single archive and the new .pkl dict archive\n",
    "audio_restored = np.load(SINGLE_ARCHIVE_NAME)"
   ]
  },
  {
   "cell_type": "code",
   "execution_count": null,
   "metadata": {
    "autoscroll": false,
    "ein.tags": "worksheet-0",
    "slideshow": {
     "slide_type": "-"
    }
   },
   "outputs": [],
   "source": [
    "audio_restored[0].shape"
   ]
  },
  {
   "cell_type": "code",
   "execution_count": null,
   "metadata": {
    "autoscroll": false,
    "ein.tags": "worksheet-0",
    "slideshow": {
     "slide_type": "-"
    }
   },
   "outputs": [],
   "source": [
    "# load the .pkl archive to make sure that it works\n",
    "with open(ARCHIVE_NAME, 'rb') as f:\n",
    "    audio_archive_restored = pickle.load(f)\n",
    "    print(audio_archive_restored)"
   ]
  },
  {
   "cell_type": "code",
   "execution_count": null,
   "metadata": {},
   "outputs": [],
   "source": []
  }
 ],
 "metadata": {
  "kernelspec": {
   "display_name": "Python 3",
   "language": "python",
   "name": "python3"
  },
  "language_info": {
   "codemirror_mode": {
    "name": "ipython",
    "version": 3
   },
   "file_extension": ".py",
   "mimetype": "text/x-python",
   "name": "python",
   "nbconvert_exporter": "python",
   "pygments_lexer": "ipython3",
   "version": "3.6.4"
  },
  "name": "Chiptune Extraction and Data Prep.ipynb"
 },
 "nbformat": 4,
 "nbformat_minor": 2
}
