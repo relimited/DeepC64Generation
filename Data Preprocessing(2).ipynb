{
 "cells": [
  {
   "cell_type": "markdown",
   "metadata": {},
   "source": [
    "#### Data Preprocessing!\n",
    "Take a extracted numpy array of wavs and data preprocess\n",
    "* normalize from [0 - 1] (floating)\n",
    "* append a stop token (it's -1)\n",
    "* save as a binary numpy file (.npy)"
   ]
  },
  {
   "cell_type": "code",
   "execution_count": 1,
   "metadata": {},
   "outputs": [],
   "source": [
    "import numpy as np\n",
    "import os"
   ]
  },
  {
   "cell_type": "code",
   "execution_count": 27,
   "metadata": {},
   "outputs": [],
   "source": [
    "# useful constants\n",
    "ARCHIVE_NAME = \"20-test-dataset.npy\"\n",
    "NORMED_ARCHIVE_NAME = \"20-norm-dataset.npy\"\n",
    "END_TOKEN = -1.0"
   ]
  },
  {
   "cell_type": "code",
   "execution_count": 3,
   "metadata": {},
   "outputs": [
    {
     "name": "stdout",
     "output_type": "stream",
     "text": [
      "(20,)\n",
      "(6394500,)\n"
     ]
    }
   ],
   "source": [
    "# lets start by loading things\n",
    "audio_data = np.load(ARCHIVE_NAME)\n",
    "print(audio_data.shape)\n",
    "print(audio_data[0].shape)"
   ]
  },
  {
   "cell_type": "code",
   "execution_count": 28,
   "metadata": {},
   "outputs": [
    {
     "name": "stdout",
     "output_type": "stream",
     "text": [
      "(20,)\n",
      "(6394501,)\n"
     ]
    }
   ],
   "source": [
    "normalized_data = []\n",
    "for song in audio_data:\n",
    "    norm_song = song.astype('float16') / 65535 #uint16 max\n",
    "    norm_song = np.append(norm_song, END_TOKEN) #stop token\n",
    "    normalized_data.append(norm_song)\n",
    "normalized_data = np.array(normalized_data)\n",
    "print(normalized_data.shape)\n",
    "print(normalized_data[0].shape)"
   ]
  },
  {
   "cell_type": "code",
   "execution_count": 22,
   "metadata": {},
   "outputs": [],
   "source": [
    "# save as a binary numpy file\n",
    "np.save(NORMED_ARCHIVE_NAME, normalized_data)"
   ]
  },
  {
   "cell_type": "code",
   "execution_count": 23,
   "metadata": {},
   "outputs": [
    {
     "data": {
      "text/plain": [
       "(20,)"
      ]
     },
     "execution_count": 23,
     "metadata": {},
     "output_type": "execute_result"
    }
   ],
   "source": [
    "# restore check\n",
    "audio_restored = np.load(NORMED_ARCHIVE_NAME)\n",
    "audio_restored.shape"
   ]
  },
  {
   "cell_type": "code",
   "execution_count": 24,
   "metadata": {},
   "outputs": [
    {
     "data": {
      "text/plain": [
       "(6394501,)"
      ]
     },
     "execution_count": 24,
     "metadata": {},
     "output_type": "execute_result"
    }
   ],
   "source": [
    "audio_restored[0].shape"
   ]
  },
  {
   "cell_type": "code",
   "execution_count": null,
   "metadata": {},
   "outputs": [],
   "source": []
  }
 ],
 "metadata": {
  "kernelspec": {
   "display_name": "Python 3",
   "language": "python",
   "name": "python3"
  },
  "language_info": {
   "codemirror_mode": {
    "name": "ipython",
    "version": 3
   },
   "file_extension": ".py",
   "mimetype": "text/x-python",
   "name": "python",
   "nbconvert_exporter": "python",
   "pygments_lexer": "ipython3",
   "version": "3.6.4"
  }
 },
 "nbformat": 4,
 "nbformat_minor": 2
}
